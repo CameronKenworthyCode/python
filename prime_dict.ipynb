{
  "nbformat": 4,
  "nbformat_minor": 0,
  "metadata": {
    "colab": {
      "name": "prime_dict.ipynb",
      "provenance": [],
      "collapsed_sections": [],
      "authorship_tag": "ABX9TyNF3qrzShrsPV6Kr4Q6c4IY",
      "include_colab_link": true
    },
    "kernelspec": {
      "name": "python3",
      "display_name": "Python 3"
    },
    "language_info": {
      "name": "python"
    }
  },
  "cells": [
    {
      "cell_type": "markdown",
      "metadata": {
        "id": "view-in-github",
        "colab_type": "text"
      },
      "source": [
        "<a href=\"https://colab.research.google.com/github/CameronKenworthyCode/python/blob/main/prime_dict.ipynb\" target=\"_parent\"><img src=\"https://colab.research.google.com/assets/colab-badge.svg\" alt=\"Open In Colab\"/></a>"
      ]
    },
    {
      "cell_type": "code",
      "execution_count": 72,
      "metadata": {
        "id": "LxOuYxsWE06Y"
      },
      "outputs": [],
      "source": [
        "#very fast prime finder\n",
        "\n",
        "def mark(sieve, x):\n",
        "    for i in range(x+x, len(sieve), x): #for each number go to each multiple of that number\n",
        "        sieve[i] = False #and mark it as non-prime\n",
        "\n",
        "def prime_dict(length=0, range_=(0, 1000)):\n",
        "  prime_dict = {}\n",
        "  if length == 0:\n",
        "    sieve = [True] * range_[1]\n",
        "    \n",
        "    for x in range(2, int(len(sieve) ** 0.5) + 1): # starting values to map multiples of will be up to size sqrt(len(sieve))\n",
        "      if sieve[x]: mark(sieve, x) #mark out non-prime multiples\n",
        "    \n",
        "    primes = [i for i in range(2, len(sieve)) if sieve[i]] #convert their index number to a value in a list\n",
        "    primes_dict = {i+1:primes[i] for i in range(len(primes)) if primes[i] >= range_[0]}\n",
        "    \n",
        "    return primes_dict\n",
        "  \n",
        "  else:\n",
        "    sieve = [True] * (length*5)\n",
        "\n",
        "    for x in range(2, int(len(sieve) ** 0.5) + 1): # starting values to map multiples of will be up to size sqrt(len(sieve))\n",
        "      if sieve[x]: mark(sieve, x) #mark out non-prime multiples\n",
        "\n",
        "    current = sieve.count(True)\n",
        "    count = 0\n",
        "    while current <= length: #starting sieve not long enough, calculate how much longer to make it\n",
        "      count += 1\n",
        "      ratio = len(sieve)/current\n",
        "      short = length - current\n",
        "      #print('short:', short, 'ratio:', ratio)\n",
        "      addition = [True] * (int(2+(short/10)+(ratio * short)/10))\n",
        "      start = len(sieve)\n",
        "      sieve = sieve + addition\n",
        "\n",
        "      for x in range(start, int(len(sieve) ** 0.5) + 1): # starting values to map multiples of will be up to size sqrt(len(sieve))\n",
        "        if sieve[x]: mark(sieve, x) #mark out non-prime multiples\n",
        "\n",
        "      current = sieve.count(True)\n",
        "      #print(count, ',', current/length)\n",
        "\n",
        "    primes = [i for i in range(2, len(sieve)) if sieve[i]] #convert their index number to a value in a list\n",
        "    primes_dict = {i+1:primes[i] for i in range(length)}\n",
        "      \n",
        "    return primes_dict\n"
      ]
    }
  ]
}