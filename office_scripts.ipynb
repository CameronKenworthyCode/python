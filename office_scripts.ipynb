{
  "nbformat": 4,
  "nbformat_minor": 0,
  "metadata": {
    "colab": {
      "provenance": [],
      "authorship_tag": "ABX9TyOgNWQLHTuQmYHHhajX2cgu",
      "include_colab_link": true
    },
    "kernelspec": {
      "name": "python3",
      "display_name": "Python 3"
    },
    "language_info": {
      "name": "python"
    }
  },
  "cells": [
    {
      "cell_type": "markdown",
      "metadata": {
        "id": "view-in-github",
        "colab_type": "text"
      },
      "source": [
        "<a href=\"https://colab.research.google.com/github/CameronKenworthyCode/python/blob/main/office_scripts.ipynb\" target=\"_parent\"><img src=\"https://colab.research.google.com/assets/colab-badge.svg\" alt=\"Open In Colab\"/></a>"
      ]
    },
    {
      "cell_type": "code",
      "execution_count": 12,
      "metadata": {
        "colab": {
          "base_uri": "https://localhost:8080/"
        },
        "id": "Of_dJQviZEcQ",
        "outputId": "e32d5c04-63b6-49d4-c22c-dbfdf5d9394f"
      },
      "outputs": [
        {
          "output_type": "stream",
          "name": "stdout",
          "text": [
            "Drive already mounted at /content/drive/; to attempt to forcibly remount, call drive.mount(\"/content/drive/\", force_remount=True).\n"
          ]
        }
      ],
      "source": [
        "#initialize notebook\n",
        "import pandas as pd\n",
        "import numpy as np\n",
        "from datetime import datetime as dt\n",
        "import re\n",
        "\n",
        "from pydrive.auth import GoogleAuth\n",
        "from pydrive.drive import GoogleDrive\n",
        "from google.colab import auth\n",
        "from google.colab import drive\n",
        "from oauth2client.client import GoogleCredentials\n",
        "\n",
        "auth.authenticate_user()\n",
        "gauth = GoogleAuth()\n",
        "gauth.credentials = GoogleCredentials.get_application_default()\n",
        "gdrive = GoogleDrive(gauth)\n",
        "drive.mount('/content/drive/')\n",
        "path = '/content/drive/My Drive/fp_office_scripts/data/'\n",
        "\n",
        "file_list = gdrive.ListFile(\n",
        "    {'q': \"'1VtePcP6dfmX5DLmztHpU90QY3FY9nU_G' in parents and trashed=False\"}).GetList()"
      ]
    },
    {
      "cell_type": "code",
      "source": [
        "#Merge two sub-tables back into a master table on \"FP_ID\" and \"UNIT_NO\"\n",
        "\n",
        "cam = pd.read_excel(path + 'FPA_acres_vs_gis_acres_NE_cam_copy.xlsx')\n",
        "glad = pd.read_excel(path + 'FPA_acres_vs_gis_acres_NE_glad_copy.xlsx')\n",
        "main = pd.read_excel(path + 'FPA_acres_vs_gis_acres_NE.xlsx')\n",
        "\n",
        "for i in range(len(main)):\n",
        "  row = main.iloc[i]\n",
        "  id = row['FP_ID']\n",
        "  unit = row['UNIT_NO']\n",
        "  comment = row['Comments']\n",
        "  if pd.isna(comment):\n",
        "    cam_q = cam.query('UNIT_NO == @unit and FP_ID == @id')\n",
        "    if len(cam_q) > 0:\n",
        "      comment = cam_q['Comments'].values[0]\n",
        "      y_n = cam_q['GIS Follow-up Needed?'].values[0]\n",
        "      main.at[i, 'Comments'] = comment\n",
        "      main.at[i, 'GIS Follow-up Needed?'] = y_n\n",
        "\n",
        "\n",
        "for i in range(len(main)):\n",
        "  row = main.iloc[i]\n",
        "  id = row['FP_ID']\n",
        "  unit = row['UNIT_NO']\n",
        "  comment = row['Comments']\n",
        "  if pd.isna(comment):\n",
        "    glad_q = glad.query('UNIT_NO == @unit and FP_ID == @id')\n",
        "    if len(glad_q) > 0:\n",
        "      comment = glad_q['Comments'].values[0]\n",
        "      y_n = glad_q['GIS Follow-up Needed?'].values[0]\n",
        "      main.at[i, 'Comments'] = comment\n",
        "      main.at[i, 'GIS Follow-up Needed?'] = y_n"
      ],
      "metadata": {
        "id": "nTA6z6WYZYWt"
      },
      "execution_count": 14,
      "outputs": []
    }
  ]
}