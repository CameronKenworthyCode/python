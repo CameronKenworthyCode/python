{
  "nbformat": 4,
  "nbformat_minor": 0,
  "metadata": {
    "colab": {
      "name": "WRAPPERS.ipynb",
      "provenance": [],
      "collapsed_sections": [],
      "authorship_tag": "ABX9TyPR4x2KEgLoCeYQD9bVyWVk",
      "include_colab_link": true
    },
    "kernelspec": {
      "name": "python3",
      "display_name": "Python 3"
    },
    "language_info": {
      "name": "python"
    }
  },
  "cells": [
    {
      "cell_type": "markdown",
      "metadata": {
        "id": "view-in-github",
        "colab_type": "text"
      },
      "source": [
        "<a href=\"https://colab.research.google.com/github/CameronKenworthyCode/python/blob/main/WRAPPERS.ipynb\" target=\"_parent\"><img src=\"https://colab.research.google.com/assets/colab-badge.svg\" alt=\"Open In Colab\"/></a>"
      ]
    },
    {
      "cell_type": "code",
      "metadata": {
        "id": "bHz1i8V4SHfV",
        "colab": {
          "base_uri": "https://localhost:8080/"
        },
        "outputId": "6b445842-a689-48bc-e06a-b723af0ab1fb"
      },
      "source": [
        "def timer(orig_func): \n",
        "  import time\n",
        "\n",
        "  def wrapper(*args, **kwargs):\n",
        "    t1 = time.time()\n",
        "    result = orig_func(*args, **kwargs)\n",
        "    t2 = time.time() - t1\n",
        "    print('{} ran in: {} sec'.format(orig_func.__name__, t2))\n",
        "    return result\n",
        "\n",
        "  return wrapper\n",
        "\n",
        "@timer\n",
        "def test_func(name, age):\n",
        "  print(f'test_func ran with arguments ({name}, {age})')\n",
        "\n",
        "test_func('cameron', '27')"
      ],
      "execution_count": 4,
      "outputs": [
        {
          "output_type": "stream",
          "text": [
            "test_func ran with arguments (cameron, 27)\n",
            "test_func ran in: 0.00011205673217773438 sec\n"
          ],
          "name": "stdout"
        }
      ]
    },
    {
      "cell_type": "code",
      "metadata": {
        "id": "7IERsHb2S32M",
        "colab": {
          "base_uri": "https://localhost:8080/"
        },
        "outputId": "e73756c3-0fb4-4b0f-f359-5a4ca5dbdf5e"
      },
      "source": [
        "def logger(orig_func):\n",
        "  import logging\n",
        "  logging.basicConfig(filename='{}.log'.format(orig_func.__name__), level=logging.INFO)\n",
        "\n",
        "  def wrapper(*args, **kwargs):\n",
        "    logging.info(\n",
        "        'Ran with args: {}, and kwargs: {}'.format(args, kwargs))\n",
        "    return orig_func(*args, **kwargs)\n",
        "  \n",
        "  return wrapper\n",
        "\n",
        "@logger\n",
        "def test_func(name, age):\n",
        "  print(f'test_func ran with arguments ({name}, {age})')\n",
        "\n",
        "test_func('cameron', '27')"
      ],
      "execution_count": 8,
      "outputs": [
        {
          "output_type": "stream",
          "text": [
            "test_func ran with arguments (cameron, 27)\n"
          ],
          "name": "stdout"
        }
      ]
    },
    {
      "cell_type": "code",
      "metadata": {
        "id": "ei0Mm_RYVjmY"
      },
      "source": [
        ""
      ],
      "execution_count": null,
      "outputs": []
    }
  ]
}