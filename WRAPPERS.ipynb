{
  "nbformat": 4,
  "nbformat_minor": 0,
  "metadata": {
    "colab": {
      "name": "WRAPPERS.ipynb",
      "provenance": [],
      "collapsed_sections": []
    },
    "kernelspec": {
      "name": "python3",
      "display_name": "Python 3"
    },
    "language_info": {
      "name": "python"
    }
  },
  "cells": [
    {
      "cell_type": "code",
      "metadata": {
        "id": "bHz1i8V4SHfV"
      },
      "source": [
        "def timer(org_func):\n",
        "  import time\n",
        "\n",
        "  def wrapper(*args, **kwargs):\n",
        "    t1 = time.time()\n",
        "    result = orig_func(*args, **kwargs)\n",
        "    t2 = time.time() - t1\n",
        "    print('{} ran in: {} sec'.format(orig_func.__name__, t2))\n",
        "    return result\n",
        "\n",
        "  return wrapper"
      ],
      "execution_count": null,
      "outputs": []
    },
    {
      "cell_type": "code",
      "metadata": {
        "id": "7IERsHb2S32M"
      },
      "source": [
        "def logger(orig_func):\n",
        "  import logging\n",
        "  logging.basicConfig(filename='{}.log'.format(orig_func.__name__), level=logging.INFO)\n",
        "\n",
        "  def wrapper(*args, **kwargs):\n",
        "    logging.info(\n",
        "        'Ran with args: {}, and kwargs: {}'.format(args, kwargs))\n",
        "    return orig_func(*args, **kwargs)\n",
        "  \n",
        "  return wrapper"
      ],
      "execution_count": null,
      "outputs": []
    }
  ]
}